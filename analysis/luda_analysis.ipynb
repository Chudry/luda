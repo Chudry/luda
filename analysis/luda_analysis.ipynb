{
 "cells": [
  {
   "cell_type": "markdown",
   "metadata": {
    "ExecuteTime": {
     "end_time": "2021-07-14T11:35:57.868516Z",
     "start_time": "2021-07-14T11:35:57.863398Z"
    }
   },
   "source": [
    "<div style=\"color:blue; text-align: center; font-weight: bold; font-family: 'Courier New', monospace; font-size: 40px; \">\n",
    " LUDA ANALYSIS NOTEBOOK</div>"
   ]
  },
  {
   "cell_type": "code",
   "execution_count": 1,
   "metadata": {
    "ExecuteTime": {
     "end_time": "2021-08-02T09:08:44.346388Z",
     "start_time": "2021-08-02T09:08:44.311578Z"
    }
   },
   "outputs": [],
   "source": [
    "import os\n",
    "import pickle\n",
    "import pandas as pd\n",
    "from pprint import pprint"
   ]
  },
  {
   "cell_type": "code",
   "execution_count": 2,
   "metadata": {
    "ExecuteTime": {
     "end_time": "2021-08-02T09:08:44.490307Z",
     "start_time": "2021-08-02T09:08:44.477180Z"
    }
   },
   "outputs": [],
   "source": [
    "DATA = '../data/data_demo.csv'\n",
    "PREPROCESSED_DATA = '../data/data_demo_preprocessed.csv'\n",
    "MATRIX_OUTPUT = '../luda_output/mymatrix/'"
   ]
  },
  {
   "cell_type": "code",
   "execution_count": 3,
   "metadata": {
    "ExecuteTime": {
     "end_time": "2021-08-02T09:08:44.642951Z",
     "start_time": "2021-08-02T09:08:44.623894Z"
    }
   },
   "outputs": [],
   "source": [
    "def value_counts(df_col, limit=None):\n",
    "    normalized = df_col.value_counts(normalize=True)[:limit]\n",
    "    normal = df_col.value_counts()[:limit]\n",
    "    normalized.name, normal.name = 'normalized', 'count'\n",
    "    return pd.concat([normal, normalized], axis=1)"
   ]
  },
  {
   "cell_type": "markdown",
   "metadata": {},
   "source": [
    "# Explore your data"
   ]
  },
  {
   "cell_type": "markdown",
   "metadata": {
    "ExecuteTime": {
     "end_time": "2021-07-15T10:58:46.241896Z",
     "start_time": "2021-07-15T10:58:46.239058Z"
    }
   },
   "source": [
    "## Data"
   ]
  },
  {
   "cell_type": "code",
   "execution_count": 4,
   "metadata": {
    "ExecuteTime": {
     "end_time": "2021-08-02T09:08:45.756817Z",
     "start_time": "2021-08-02T09:08:45.317621Z"
    }
   },
   "outputs": [
    {
     "data": {
      "text/html": [
       "<div>\n",
       "<style scoped>\n",
       "    .dataframe tbody tr th:only-of-type {\n",
       "        vertical-align: middle;\n",
       "    }\n",
       "\n",
       "    .dataframe tbody tr th {\n",
       "        vertical-align: top;\n",
       "    }\n",
       "\n",
       "    .dataframe thead th {\n",
       "        text-align: right;\n",
       "    }\n",
       "</style>\n",
       "<table border=\"1\" class=\"dataframe\">\n",
       "  <thead>\n",
       "    <tr style=\"text-align: right;\">\n",
       "      <th></th>\n",
       "      <th>url</th>\n",
       "      <th>label</th>\n",
       "    </tr>\n",
       "  </thead>\n",
       "  <tbody>\n",
       "    <tr>\n",
       "      <td>0</td>\n",
       "      <td>http://173.243.112.132/serve/config.bin</td>\n",
       "      <td>malicious</td>\n",
       "    </tr>\n",
       "    <tr>\n",
       "      <td>1</td>\n",
       "      <td>http://194.15.112.29/2ja/panel/config.bin</td>\n",
       "      <td>malicious</td>\n",
       "    </tr>\n",
       "    <tr>\n",
       "      <td>2</td>\n",
       "      <td>http://216.170.125.134/neat/serverphp/config.bin</td>\n",
       "      <td>malicious</td>\n",
       "    </tr>\n",
       "    <tr>\n",
       "      <td>3</td>\n",
       "      <td>http://58.22.101.109/xz/cfg.bin</td>\n",
       "      <td>malicious</td>\n",
       "    </tr>\n",
       "    <tr>\n",
       "      <td>4</td>\n",
       "      <td>http://83.149.95.197/1/cfg.bin</td>\n",
       "      <td>malicious</td>\n",
       "    </tr>\n",
       "    <tr>\n",
       "      <td>...</td>\n",
       "      <td>...</td>\n",
       "      <td>...</td>\n",
       "    </tr>\n",
       "    <tr>\n",
       "      <td>10195</td>\n",
       "      <td>http://fhs.mcmaster.ca/main/benefactors/braley...</td>\n",
       "      <td>benign</td>\n",
       "    </tr>\n",
       "    <tr>\n",
       "      <td>10196</td>\n",
       "      <td>http://youtube.com/watch?v=_WQSaqs-fOs</td>\n",
       "      <td>benign</td>\n",
       "    </tr>\n",
       "    <tr>\n",
       "      <td>10197</td>\n",
       "      <td>http://randomdomain34623.com/B5iioj3SFI5gE_JbH...</td>\n",
       "      <td>benign</td>\n",
       "    </tr>\n",
       "    <tr>\n",
       "      <td>10198</td>\n",
       "      <td>http://randomdomain42219.com/-xwiPbFONIb8/AAAA...</td>\n",
       "      <td>benign</td>\n",
       "    </tr>\n",
       "    <tr>\n",
       "      <td>10199</td>\n",
       "      <td>http://randomdomain39328.com/a/AATXAJwSYig3P9W...</td>\n",
       "      <td>benign</td>\n",
       "    </tr>\n",
       "  </tbody>\n",
       "</table>\n",
       "<p>10200 rows × 2 columns</p>\n",
       "</div>"
      ],
      "text/plain": [
       "                                                     url      label\n",
       "0                http://173.243.112.132/serve/config.bin  malicious\n",
       "1              http://194.15.112.29/2ja/panel/config.bin  malicious\n",
       "2       http://216.170.125.134/neat/serverphp/config.bin  malicious\n",
       "3                        http://58.22.101.109/xz/cfg.bin  malicious\n",
       "4                         http://83.149.95.197/1/cfg.bin  malicious\n",
       "...                                                  ...        ...\n",
       "10195  http://fhs.mcmaster.ca/main/benefactors/braley...     benign\n",
       "10196             http://youtube.com/watch?v=_WQSaqs-fOs     benign\n",
       "10197  http://randomdomain34623.com/B5iioj3SFI5gE_JbH...     benign\n",
       "10198  http://randomdomain42219.com/-xwiPbFONIb8/AAAA...     benign\n",
       "10199  http://randomdomain39328.com/a/AATXAJwSYig3P9W...     benign\n",
       "\n",
       "[10200 rows x 2 columns]"
      ]
     },
     "execution_count": 4,
     "metadata": {},
     "output_type": "execute_result"
    }
   ],
   "source": [
    "df = pd.read_csv(DATA)\n",
    "df"
   ]
  },
  {
   "cell_type": "code",
   "execution_count": 5,
   "metadata": {
    "ExecuteTime": {
     "end_time": "2021-08-02T09:08:46.405848Z",
     "start_time": "2021-08-02T09:08:46.190986Z"
    }
   },
   "outputs": [
    {
     "data": {
      "text/html": [
       "<div>\n",
       "<style scoped>\n",
       "    .dataframe tbody tr th:only-of-type {\n",
       "        vertical-align: middle;\n",
       "    }\n",
       "\n",
       "    .dataframe tbody tr th {\n",
       "        vertical-align: top;\n",
       "    }\n",
       "\n",
       "    .dataframe thead th {\n",
       "        text-align: right;\n",
       "    }\n",
       "</style>\n",
       "<table border=\"1\" class=\"dataframe\">\n",
       "  <thead>\n",
       "    <tr style=\"text-align: right;\">\n",
       "      <th></th>\n",
       "      <th>count</th>\n",
       "      <th>normalized</th>\n",
       "    </tr>\n",
       "  </thead>\n",
       "  <tbody>\n",
       "    <tr>\n",
       "      <td>benign</td>\n",
       "      <td>10000</td>\n",
       "      <td>0.980392</td>\n",
       "    </tr>\n",
       "    <tr>\n",
       "      <td>malicious</td>\n",
       "      <td>200</td>\n",
       "      <td>0.019608</td>\n",
       "    </tr>\n",
       "  </tbody>\n",
       "</table>\n",
       "</div>"
      ],
      "text/plain": [
       "           count  normalized\n",
       "benign     10000    0.980392\n",
       "malicious    200    0.019608"
      ]
     },
     "execution_count": 5,
     "metadata": {},
     "output_type": "execute_result"
    }
   ],
   "source": [
    "value_counts(df['label'])"
   ]
  },
  {
   "cell_type": "code",
   "execution_count": 6,
   "metadata": {
    "ExecuteTime": {
     "end_time": "2021-08-02T09:08:46.483380Z",
     "start_time": "2021-08-02T09:08:46.428743Z"
    }
   },
   "outputs": [
    {
     "name": "stdout",
     "output_type": "stream",
     "text": [
      "200 unique malicious URLs\n",
      "9978 unique benign URLs\n"
     ]
    }
   ],
   "source": [
    "for label in ['malicious', 'benign']:\n",
    "    _ = df[df['label'] == label]\n",
    "    print(f\"{_['url'].nunique()} unique {label} URLs\")\n",
    "\n"
   ]
  },
  {
   "cell_type": "markdown",
   "metadata": {},
   "source": [
    "## Preprocessed"
   ]
  },
  {
   "cell_type": "code",
   "execution_count": 7,
   "metadata": {
    "ExecuteTime": {
     "end_time": "2021-08-02T09:08:47.142816Z",
     "start_time": "2021-08-02T09:08:47.051959Z"
    }
   },
   "outputs": [],
   "source": [
    "df_preprocessed = pd.read_csv(PREPROCESSED_DATA)"
   ]
  },
  {
   "cell_type": "code",
   "execution_count": 8,
   "metadata": {
    "ExecuteTime": {
     "end_time": "2021-08-02T09:08:47.379022Z",
     "start_time": "2021-08-02T09:08:47.369022Z"
    }
   },
   "outputs": [
    {
     "data": {
      "text/plain": [
       "benign       10000\n",
       "malicious      200\n",
       "Name: label, dtype: int64"
      ]
     },
     "execution_count": 8,
     "metadata": {},
     "output_type": "execute_result"
    }
   ],
   "source": [
    "df_preprocessed['label'].value_counts()"
   ]
  },
  {
   "cell_type": "markdown",
   "metadata": {},
   "source": [
    "# Cluster analysis"
   ]
  },
  {
   "cell_type": "markdown",
   "metadata": {},
   "source": [
    "Explore your cluster before running the automatic regex generation"
   ]
  },
  {
   "cell_type": "code",
   "execution_count": 9,
   "metadata": {
    "ExecuteTime": {
     "end_time": "2021-08-02T09:08:48.366378Z",
     "start_time": "2021-08-02T09:08:48.354717Z"
    }
   },
   "outputs": [],
   "source": [
    "def load_result(data_path, folder):\n",
    "    df = pd.read_csv(data_path)\n",
    "    with open(os.path.join(folder, 'index_to_keep.pkl'), 'rb') as f:\n",
    "        index_to_keep = pickle.load(f)\n",
    "    with open(os.path.join(folder, 'labels.pkl'), 'rb') as f:\n",
    "        labels = pickle.load(f)\n",
    "    df = df.iloc[index_to_keep, :]\n",
    "    df['cluster'] = labels\n",
    "    series_cluster_count = df['cluster'].value_counts()\n",
    "    print('Clusters : ')\n",
    "    print(df['cluster'].value_counts())\n",
    "    for cluster in series_cluster_count.index:\n",
    "        if cluster == -1:\n",
    "            continue\n",
    "        print('#####Cluster {} - {} samples: #### \\n'.format(cluster, series_cluster_count[cluster]))\n",
    "        pprint(df[(df['cluster']==cluster)]['path'].to_list())\n",
    "        print('\\n')\n",
    "    return df\n",
    "\n",
    "\n",
    "def get_stat_cluster(df_features):\n",
    "    df_features_cluster = pd.DataFrame(df_features.groupby('cluster').agg({'domain': ['nunique'], 'path': 'count'}).to_records())\n",
    "    df_features_cluster.columns = ['cluster', 'domain', 'path']\n",
    "    df_features_cluster = df_features_cluster[df_features_cluster['cluster'] !=-1]\n",
    "    n_path = df_features_cluster['path'].sum()\n",
    "    print('{} paths ({} %) clustered from {} domains !'.format(n_path, round(100*n_path/df_features['path'].nunique(), 2), df_features_cluster['domain'].sum()))\n",
    "    print('Cluster number: {}'.format(df_features_cluster['cluster'].nunique()))\n",
    "    return df_features_cluster.sort_values('path', ascending=False)"
   ]
  },
  {
   "cell_type": "code",
   "execution_count": 10,
   "metadata": {
    "ExecuteTime": {
     "end_time": "2021-08-02T09:08:48.687947Z",
     "start_time": "2021-08-02T09:08:48.540847Z"
    }
   },
   "outputs": [
    {
     "name": "stdout",
     "output_type": "stream",
     "text": [
      "Clusters : \n",
      " 0     27\n",
      " 4     17\n",
      " 6     16\n",
      " 1     16\n",
      " 10    15\n",
      " 15    12\n",
      " 11    12\n",
      " 3     10\n",
      " 8      9\n",
      " 16     8\n",
      " 7      8\n",
      " 9      8\n",
      " 5      8\n",
      " 12     8\n",
      " 13     8\n",
      " 2      8\n",
      " 14     8\n",
      "-1      2\n",
      "Name: cluster, dtype: int64\n",
      "#####Cluster 0 - 27 samples: #### \n",
      "\n",
      "['/neat/serverphp/config.bin',\n",
      " '/serverphp/config.bin',\n",
      " '/Zeus/serverphp/config.bin',\n",
      " '/files/serverphp/config.bin',\n",
      " '/high/serverphp/config.bin',\n",
      " '/work/server.php/config.bin',\n",
      " '/nice/serverphp/config.bin',\n",
      " '/online/serverphp/config.bin',\n",
      " '/adm/serverphp/config.bin',\n",
      " '/plain/serverphp/config.bin',\n",
      " '/dbb/serverphp/config.bin',\n",
      " '/figo/serverphp/config.bin',\n",
      " '/fine/serverphp/config.bin',\n",
      " '/sys/serverphp/config.bin',\n",
      " '/dbd/serverphp/config.bin',\n",
      " '/nku/serverphp/config.bin',\n",
      " '/lg/server-php/config.bin',\n",
      " '/crome/serverphp/config.bin',\n",
      " '/db/serverphp/config.bin',\n",
      " '/good/serverphp/config.bin',\n",
      " '/serverp/config.bin',\n",
      " '/dolls/serverphp/config.bin',\n",
      " '/pus1/serverphp/config.bin',\n",
      " '/lg/server.php/config.bin',\n",
      " '/ekene/Severphp/config.bin',\n",
      " '/server[php]/config.bin',\n",
      " '/versy/serverphp/config.bin']\n",
      "\n",
      "\n",
      "#####Cluster 4 - 17 samples: #### \n",
      "\n",
      "['/mupanel/post.php',\n",
      " '/jiz/kbpanel/post.php',\n",
      " '/sync/kbpanel/post.php',\n",
      " '/doc/kbpanel/post.php',\n",
      " '/K/kbpanel/post.php',\n",
      " '/panel/post.php',\n",
      " '/kbpanel/post.php',\n",
      " '/_cpanel/post.php',\n",
      " '/KB/kbpanel/post.php',\n",
      " '/led/kbpanel/post.php',\n",
      " '/laww/kbpanel/post.php',\n",
      " '/php/kbpanel/post.php',\n",
      " '/tru/kbpanel/post.php',\n",
      " '/edu/kbpanel/post.php',\n",
      " '/low/kbpanel/post.php',\n",
      " '/1/kbpanel/post.php',\n",
      " '/new/kbpanel/post.php']\n",
      "\n",
      "\n",
      "#####Cluster 6 - 16 samples: #### \n",
      "\n",
      "['/wp-content/themes/twentyeleven/img5.php',\n",
      " '/site/wp-content/themes/twentyeleven/e.php',\n",
      " '/wp-content/themes/twentyeleven/get.php',\n",
      " '/wp-content/themes/twentytwelve/r.php',\n",
      " '/wp-content/themes/twentyeleven/3.php',\n",
      " '/wp-content/themes/twentyeleven/post.php',\n",
      " '/wp-content/themes/twentyeleven/js',\n",
      " '/wp-content/themes/twentytwelve/img3.php',\n",
      " '/wp-content/themes/twentytwelve/c.php',\n",
      " '/wp-content/themes/twentyeleven/ccccc.php',\n",
      " '/wp-content/themes/twentytwelve/cccc.php',\n",
      " '/wp-content/themes/twentytwelve/rr.php',\n",
      " '/wp-content/themes/twentytwelve/g1.php',\n",
      " '/wp-content/themes/twentytwelve/st1.exe',\n",
      " '/wp-content/themes/twentyeleven/a.php',\n",
      " '/wp-content/themes/twentyeleven/cc.php']\n",
      "\n",
      "\n",
      "#####Cluster 1 - 16 samples: #### \n",
      "\n",
      "['/xz/cfg.bin',\n",
      " '/1/cfg.bin',\n",
      " '/zs/cfg.bin',\n",
      " '/me/cfg.bin',\n",
      " '/zsb/cfg.bin',\n",
      " '/zex/cfg.bin',\n",
      " '/izu/cfg.bin',\n",
      " '/zus/cfg.bin',\n",
      " '/z/cfg.bin',\n",
      " '/2/cfg.bin',\n",
      " '/te/cfg.bin',\n",
      " '/ZUS/cfg.bin',\n",
      " '/ze/cfg.bin',\n",
      " '/zv/cfg.bin',\n",
      " '/zu/cfg.bin',\n",
      " '/c/cfg.bin']\n",
      "\n",
      "\n",
      "#####Cluster 10 - 15 samples: #### \n",
      "\n",
      "['/wp-content/plugins/wp-db-backup-made/test.php',\n",
      " '/wp-content/plugins/wp-db-backup-made/BYA4Ks.php',\n",
      " '/RRYZZ/wp-content/plugins/wp-db-backup-made/test.php',\n",
      " '/wp-content/plugins/wp-db-backup-made/g1.php',\n",
      " '/wp-content/plugins/wp-db-backup-made/ap1.php',\n",
      " '/wp-content/plugins/wp-db-backup-made/das.db',\n",
      " '/wp-content/plugins/wp-db-backup-made/ap2.php',\n",
      " '/wp-content/plugins/wp-db-backup-made/3.php',\n",
      " '/wp-content/plugins/wp-db-backup-made/ap5.php',\n",
      " '/wp-content/plugins/wp-db-backup-made/ap4.php',\n",
      " '/wp-content/plugins/wp-db-backup-made/mein.hlp',\n",
      " '/wp-content/plugins/wp-db-backup-made/Xoeyqs.php',\n",
      " '/wp-content/plugins/wp-db-backup-made/3ILBop.php',\n",
      " '/wp-content/plugins/wp-db-backup-made/c.php',\n",
      " '/blog/wp-content/plugins/wp-db-backup-made/d.php']\n",
      "\n",
      "\n",
      "#####Cluster 15 - 12 samples: #### \n",
      "\n",
      "['/bla31/gate.php',\n",
      " '/bla09/gate.php',\n",
      " '/bla06/gate.php',\n",
      " '/bla10/gate.php',\n",
      " '/bla11/gate.php',\n",
      " '/bla12/gate.php',\n",
      " '/bla07/gate.php',\n",
      " '/bla30/gate.php',\n",
      " '/bla08/gate.php',\n",
      " '/bla19/gate.php',\n",
      " '/bla25/gate.php',\n",
      " '/bla05/gate.php']\n",
      "\n",
      "\n",
      "#####Cluster 11 - 12 samples: #### \n",
      "\n",
      "['/serve/config.bin',\n",
      " '/.tmp/server/config.bin',\n",
      " '/loja/.db/server/config.bin',\n",
      " '/zcp/server/config.bin',\n",
      " '/new/server/config.bin',\n",
      " '/.db/server/config.bin',\n",
      " '/server/config.bin',\n",
      " '/web/server/config.bin',\n",
      " '/go/server/config.bin',\n",
      " '/123/server/config.bin',\n",
      " '/servero/config.bin',\n",
      " '/wpi/server/config.bin']\n",
      "\n",
      "\n",
      "#####Cluster 3 - 10 samples: #### \n",
      "\n",
      "['/imgs/keybase/post.php',\n",
      " '/pcss/keybase/post.php',\n",
      " '/grey/keybase/post.php',\n",
      " '/key/keybase/post.php',\n",
      " '/app/keybase/post.php',\n",
      " '/img/keybase/post.php',\n",
      " '/k/keybase/post.php',\n",
      " '/css/keybase/post.php',\n",
      " '/.key/keybase/post.php',\n",
      " '/old/keybase/post.php']\n",
      "\n",
      "\n",
      "#####Cluster 8 - 9 samples: #### \n",
      "\n",
      "['/images/config.bin',\n",
      " '/images/1/config.bin',\n",
      " '/do/images/config.bin',\n",
      " '/image3/config.bin',\n",
      " '/t1/images/config.bin',\n",
      " '/image/config.bin',\n",
      " '/css/images/config.bin',\n",
      " '/.images/config.bin',\n",
      " '/wp-images/config.bin']\n",
      "\n",
      "\n",
      "#####Cluster 16 - 8 samples: #### \n",
      "\n",
      "['/ade/PHP/index.php',\n",
      " '/one/PHP/index.php',\n",
      " '/goe/PHP/index.php',\n",
      " '/gg/PHP/index.php',\n",
      " '/joe/PHP/index.php',\n",
      " '/nze/PHP/index.php',\n",
      " '/kg/PHP/index.php',\n",
      " '/ME/PHP/index.php']\n",
      "\n",
      "\n",
      "#####Cluster 7 - 8 samples: #### \n",
      "\n",
      "['/lol/web/config/index.php',\n",
      " '/web/config/index.php',\n",
      " '/pfd/config/index.php',\n",
      " '/cach/web/config/index.php',\n",
      " '/web/web/config/index.php',\n",
      " '/config/index.php',\n",
      " '/css/config/index.php',\n",
      " '/Fish/web/config/index.php']\n",
      "\n",
      "\n",
      "#####Cluster 9 - 8 samples: #### \n",
      "\n",
      "['/bm_a/controller.php',\n",
      " '/adm/controller.php',\n",
      " '/bm/controller.php',\n",
      " '/bm_b/controller.php',\n",
      " '/4n/controller.php',\n",
      " '/J/controller.php',\n",
      " '/3/controller.php',\n",
      " '/br/controller.php']\n",
      "\n",
      "\n",
      "#####Cluster 5 - 8 samples: #### \n",
      "\n",
      "['/imagens/logo.gif',\n",
      " '/images/logof.gif',\n",
      " '/Images/logos.gif',\n",
      " '/image/logos.gif',\n",
      " '/images/logos1.gif',\n",
      " '/images/flogo.gif',\n",
      " '/imagens/logos.gif',\n",
      " '/images/logo2.gif']\n",
      "\n",
      "\n",
      "#####Cluster 12 - 8 samples: #### \n",
      "\n",
      "['/TJ/Count.asp',\n",
      " '/TJ/count.asp',\n",
      " '/1/count.asp',\n",
      " '/t/Count.asp',\n",
      " '/f/count.asp',\n",
      " '/a/Count.asp',\n",
      " '/2/count.asp',\n",
      " '/jt/count.asp']\n",
      "\n",
      "\n",
      "#####Cluster 13 - 8 samples: #### \n",
      "\n",
      "['/wp-content/uploads/2018/1Ih',\n",
      " '/wp-content/uploads/2017/NVa',\n",
      " '/wp-content/uploads/2019/6AP0',\n",
      " '/wp-content/uploads/2016/04/',\n",
      " '/wp-content/uploads/2018/Cc',\n",
      " '/wp-content/uploads/2019/41',\n",
      " '/wp-content/uploads/2019/12/app',\n",
      " '/wp-content/uploads/2015/KD']\n",
      "\n",
      "\n",
      "#####Cluster 2 - 8 samples: #### \n",
      "\n",
      "['/office/invoice_22114.doc',\n",
      " '/office/invoice_11154.doc',\n",
      " '/office/invoice_11148.doc',\n",
      " '/office/invoice_221214.doc',\n",
      " '/office/invoice_22112.doc',\n",
      " '/office/invoice_22113.doc',\n",
      " '/office/invoice_22121.doc',\n",
      " '/office/invoice_21441.doc']\n",
      "\n",
      "\n",
      "#####Cluster 14 - 8 samples: #### \n",
      "\n",
      "['/2ja/panel/config.bin',\n",
      " '/ghpanel/config.bin',\n",
      " '/cmm/panel/config.bin',\n",
      " '/ceepanel/config.bin',\n",
      " '/idk/panel/config.bin',\n",
      " '/cpanel/config.bin',\n",
      " '/Panel/config.bin',\n",
      " '/ash/panel/config.bin']\n",
      "\n",
      "\n"
     ]
    }
   ],
   "source": [
    "df_features = load_result(PREPROCESSED_DATA, MATRIX_OUTPUT)"
   ]
  },
  {
   "cell_type": "code",
   "execution_count": null,
   "metadata": {},
   "outputs": [],
   "source": []
  }
 ],
 "metadata": {
  "kernelspec": {
   "display_name": "Python 3",
   "language": "python",
   "name": "python3"
  },
  "language_info": {
   "codemirror_mode": {
    "name": "ipython",
    "version": 3
   },
   "file_extension": ".py",
   "mimetype": "text/x-python",
   "name": "python",
   "nbconvert_exporter": "python",
   "pygments_lexer": "ipython3",
   "version": "3.7.4"
  },
  "toc": {
   "base_numbering": 1,
   "nav_menu": {},
   "number_sections": true,
   "sideBar": true,
   "skip_h1_title": false,
   "title_cell": "Table of Contents",
   "title_sidebar": "Contents",
   "toc_cell": false,
   "toc_position": {
    "height": "calc(100% - 180px)",
    "left": "10px",
    "top": "150px",
    "width": "282.344px"
   },
   "toc_section_display": true,
   "toc_window_display": true
  }
 },
 "nbformat": 4,
 "nbformat_minor": 2
}
